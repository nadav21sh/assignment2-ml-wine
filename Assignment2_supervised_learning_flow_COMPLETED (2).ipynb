{
 "cells": [
  {
   "cell_type": "markdown",
   "id": "741c6645",
   "metadata": {},
   "source": [
    "# Assignment 2 – Supervised Learning Flow\n",
    "**Participants:** Avraham Alkalay (4328), Nadav Shapira (3505)\n",
    "\n",
    "**Dataset:** Wine classification (Multiclass)\n",
    "**Task type:** Classification\n",
    "\n",
    "**Prompt used (LLM/AI tools):** ChatGPT – לעזרה בבניית שלבי העבודה, קוד תקין, וסדר הפעולות במטלה.\n",
    "המטרה הייתה לבנות pipeline שלם של למידה מונחית לפי הדרישות, כולל ניתוח נתונים, GridSearch ו־Evaluation."
   ]
  },
  {
   "cell_type": "markdown",
   "id": "f61006b9",
   "metadata": {},
   "source": [
    "## ייבוא ספריות"
   ]
  },
  {
   "cell_type": "code",
   "execution_count": null,
   "id": "2d9f8ad4",
   "metadata": {},
   "outputs": [],
   "source": [
    "import pandas as pd\n",
    "import numpy as np\n",
    "import matplotlib.pyplot as plt\n",
    "import seaborn as sns\n",
    "from sklearn.model_selection import GridSearchCV, StratifiedKFold\n",
    "from sklearn.preprocessing import StandardScaler\n",
    "from sklearn.metrics import classification_report, confusion_matrix, f1_score\n",
    "from sklearn.ensemble import RandomForestClassifier\n",
    "from sklearn.svm import SVC"
   ]
  },
  {
   "cell_type": "markdown",
   "id": "5c25310d",
   "metadata": {},
   "source": [
    "## טעינת הקבצים והצגת מבנה הנתונים"
   ]
  },
  {
   "cell_type": "code",
   "execution_count": null,
   "id": "9c06690f",
   "metadata": {},
   "outputs": [],
   "source": [
    "train_df = pd.read_csv(\"wine_train.csv\")\n",
    "test_df = pd.read_csv(\"wine_test.csv\")\n",
    "\n",
    "print(\"Train shape:\", train_df.shape)\n",
    "print(\"Test shape:\", test_df.shape)\n",
    "\n",
    "train_df.head()"
   ]
  },
  {
   "cell_type": "markdown",
   "id": "89378a23",
   "metadata": {},
   "source": [
    "## הצגת השורות הראשונות של סט הבדיקה"
   ]
  },
  {
   "cell_type": "code",
   "execution_count": null,
   "id": "3b19b45d",
   "metadata": {},
   "outputs": [],
   "source": [
    "test_df.head()"
   ]
  },
  {
   "cell_type": "markdown",
   "id": "562f0321",
   "metadata": {},
   "source": [
    "## ניתוח נתונים Exploratory Data Analysis (EDA)"
   ]
  },
  {
   "cell_type": "code",
   "execution_count": null,
   "id": "b98dcf64",
   "metadata": {},
   "outputs": [],
   "source": [
    "sns.countplot(x='target', data=train_df)\n",
    "plt.title(\"Class Distribution\")\n",
    "plt.show()\n",
    "\n",
    "plt.figure(figsize=(12, 10))\n",
    "sns.heatmap(train_df.corr(), cmap='coolwarm', annot=False)\n",
    "plt.title(\"Correlation Matrix\")\n",
    "plt.show()\n",
    "\n",
    "plt.figure(figsize=(12, 6))\n",
    "sns.boxplot(data=train_df.drop('target', axis=1))\n",
    "plt.xticks(rotation=90)\n",
    "plt.title(\"Boxplot of Features\")\n",
    "plt.show()"
   ]
  },
  {
   "cell_type": "markdown",
   "id": "d857b67d",
   "metadata": {},
   "source": [
    "## קדם-עיבוד: Scale לנתונים והפרדת X ו־y"
   ]
  },
  {
   "cell_type": "code",
   "execution_count": null,
   "id": "7c07f0d8",
   "metadata": {},
   "outputs": [],
   "source": [
    "X_train = train_df.drop(\"target\", axis=1)\n",
    "y_train = train_df[\"target\"]\n",
    "X_test = test_df.drop(\"target\", axis=1)\n",
    "y_test = test_df[\"target\"]\n",
    "\n",
    "scaler = StandardScaler()\n",
    "X_train_scaled = scaler.fit_transform(X_train)\n",
    "X_test_scaled = scaler.transform(X_test)"
   ]
  },
  {
   "cell_type": "markdown",
   "id": "70b9ab3c",
   "metadata": {},
   "source": [
    "## ניסויים עם GridSearchCV ו־Cross Validation"
   ]
  },
  {
   "cell_type": "code",
   "execution_count": null,
   "id": "47d70bc8",
   "metadata": {},
   "outputs": [],
   "source": [
    "models = {\n",
    "    'RandomForest': RandomForestClassifier(),\n",
    "    'SVM': SVC()\n",
    "}\n",
    "\n",
    "params = {\n",
    "    'RandomForest': {\n",
    "        'n_estimators': [50, 100],\n",
    "        'max_depth': [None, 10]\n",
    "    },\n",
    "    'SVM': {\n",
    "        'C': [0.1, 1, 10],\n",
    "        'kernel': ['linear', 'rbf']\n",
    "    }\n",
    "}\n",
    "\n",
    "cv_results = {}\n",
    "\n",
    "for model_name in models:\n",
    "    clf = models[model_name]\n",
    "    grid = GridSearchCV(clf, params[model_name], cv=5, scoring='f1_macro')\n",
    "    grid.fit(X_train_scaled, y_train)\n",
    "    cv_results[model_name] = grid\n",
    "    print(f\"Best parameters for {model_name}: {grid.best_params_}\")\n",
    "    print(f\"Best cross-validated f1_macro: {grid.best_score_:.4f}\")"
   ]
  },
  {
   "cell_type": "markdown",
   "id": "c690441d",
   "metadata": {},
   "source": [
    "## אימון סופי עם הפרמטרים הטובים ביותר"
   ]
  },
  {
   "cell_type": "code",
   "execution_count": null,
   "id": "b67fe36e",
   "metadata": {},
   "outputs": [],
   "source": [
    "best_model_name = max(cv_results, key=lambda m: cv_results[m].best_score_)\n",
    "best_model = cv_results[best_model_name].best_estimator_\n",
    "\n",
    "best_model.fit(X_train_scaled, y_train)\n",
    "y_pred = best_model.predict(X_test_scaled)"
   ]
  },
  {
   "cell_type": "markdown",
   "id": "cd3a00b0",
   "metadata": {},
   "source": [
    "## הערכת איכות המודל על סט הבדיקה"
   ]
  },
  {
   "cell_type": "code",
   "execution_count": null,
   "id": "a25fd768",
   "metadata": {},
   "outputs": [],
   "source": [
    "print(\"Confusion Matrix:\")\n",
    "print(confusion_matrix(y_test, y_pred))\n",
    "\n",
    "print(\"Classification Report:\")\n",
    "print(classification_report(y_test, y_pred))\n",
    "\n",
    "print(\"First 5 predictions:\", y_pred[:5])"
   ]
  }
 ],
 "metadata": {
  "kernelspec": {
   "display_name": "Python 3 (ipykernel)",
   "language": "python",
   "name": "python3"
  },
  "language_info": {
   "codemirror_mode": {
    "name": "ipython",
    "version": 3
   },
   "file_extension": ".py",
   "mimetype": "text/x-python",
   "name": "python",
   "nbconvert_exporter": "python",
   "pygments_lexer": "ipython3",
   "version": "3.12.7"
  }
 },
 "nbformat": 4,
 "nbformat_minor": 5
}
